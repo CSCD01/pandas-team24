{
 "cells": [
  {
   "cell_type": "code",
   "execution_count": 4,
   "metadata": {},
   "outputs": [
    {
     "name": "stdout",
     "output_type": "stream",
     "text": [
      "          a         b         c         d  group\n",
      "0  0.855664  0.237612  0.660391  0.896628      0\n",
      "1  0.695109  0.026930  0.315360  0.784887      0\n",
      "2  0.807515  0.301360  0.400504  0.055916      1\n",
      "3  0.077397  0.571981  0.429654  0.180142      1\n",
      "<pandas.core.groupby.generic.DataFrameGroupBy object at 0x7f43485b0190>\n",
      "group\n",
      "0    0.618052\n",
      "1    0.235534\n",
      "dtype: float64\n",
      "          a_sum    a_mean    b_mean     c_sum   d_range  diff_a_b\n",
      "group                                                            \n",
      "0      1.550773  0.775387  0.132271  0.975751  0.111741  0.618052\n",
      "1      0.884912  0.442456  0.436670  0.830158  0.124226  0.235534\n"
     ]
    }
   ],
   "source": [
    "import pandas as pd\n",
    "import numpy as np\n",
    "\n",
    "df = pd.DataFrame(np.random.rand(4,4), columns=list('abcd'))\n",
    "df['group'] = [0, 0, 1, 1]\n",
    "\n",
    "print(df)\n",
    "\n",
    "print(df.groupby('group'))\n",
    "\n",
    "print(df.groupby('group')['a'].max() - df.groupby('group')['b'].max())\n",
    "\n",
    "print(df.groupby('group').agg(\n",
    "    diff_a_b=(['a', 'b'], lambda x: x['a'].max() - x['b'].max())\n",
    "    a_sum=('a', 'sum'),\n",
    "    a_mean=('a', 'mean'),\n",
    "    b_mean=('b', 'mean'),\n",
    "    c_sum=('c', 'sum'),\n",
    "    d_range=('d', lambda x: x.max() - x.min()),\n",
    "))"
   ]
  },
  {
   "cell_type": "code",
   "execution_count": null,
   "metadata": {},
   "outputs": [],
   "source": []
  }
 ],
 "metadata": {
  "kernelspec": {
   "display_name": "Python 3",
   "language": "python",
   "name": "python3"
  },
  "language_info": {
   "codemirror_mode": {
    "name": "ipython",
    "version": 3
   },
   "file_extension": ".py",
   "mimetype": "text/x-python",
   "name": "python",
   "nbconvert_exporter": "python",
   "pygments_lexer": "ipython3",
   "version": "3.7.6"
  }
 },
 "nbformat": 4,
 "nbformat_minor": 4
}
